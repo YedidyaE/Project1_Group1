{
 "cells": [
  {
   "cell_type": "code",
   "execution_count": 37,
   "metadata": {},
   "outputs": [
    {
     "name": "stdout",
     "output_type": "stream",
     "text": [
      "['requested', 'to', 'report']\n",
      "['requested', 'to']\n"
     ]
    }
   ],
   "source": [
    "filename = 'Resources/2017 New Housing Units.txt'\n",
    "\n",
    "\n",
    "with open(filename) as f:\n",
    "    data = f.readlines()\n",
    "    \n",
    "newdata = []\n",
    "for row in data:\n",
    "    newdata = row.split()\n",
    "\n",
    "for row2 in newdata:\n",
    "    if row2[0] == 'CSA':\n",
    "        break\n",
    "    else:\n",
    "        newdata.pop()\n",
    "    print(newdata)\n",
    "        \n"
   ]
  },
  {
   "cell_type": "code",
   "execution_count": null,
   "metadata": {},
   "outputs": [],
   "source": []
  }
 ],
 "metadata": {
  "kernelspec": {
   "display_name": "Python [conda env:PythonData]",
   "language": "python",
   "name": "conda-env-PythonData-py"
  },
  "language_info": {
   "codemirror_mode": {
    "name": "ipython",
    "version": 3
   },
   "file_extension": ".py",
   "mimetype": "text/x-python",
   "name": "python",
   "nbconvert_exporter": "python",
   "pygments_lexer": "ipython3",
   "version": "3.6.5"
  }
 },
 "nbformat": 4,
 "nbformat_minor": 2
}
